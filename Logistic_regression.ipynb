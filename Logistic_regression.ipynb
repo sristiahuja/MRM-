{
  "nbformat": 4,
  "nbformat_minor": 0,
  "metadata": {
    "colab": {
      "provenance": [],
      "authorship_tag": "ABX9TyNK6gX8+Q8swvgVRrTdIj11",
      "include_colab_link": true
    },
    "kernelspec": {
      "name": "python3",
      "display_name": "Python 3"
    },
    "language_info": {
      "name": "python"
    }
  },
  "cells": [
    {
      "cell_type": "markdown",
      "metadata": {
        "id": "view-in-github",
        "colab_type": "text"
      },
      "source": [
        "<a href=\"https://colab.research.google.com/github/sristiahuja/MRM-/blob/main/Logistic_regression.ipynb\" target=\"_parent\"><img src=\"https://colab.research.google.com/assets/colab-badge.svg\" alt=\"Open In Colab\"/></a>"
      ]
    },
    {
      "cell_type": "code",
      "execution_count": null,
      "metadata": {
        "colab": {
          "base_uri": "https://localhost:8080/",
          "height": 108
        },
        "id": "zEXb6EjSykwT",
        "outputId": "1189cc64-e370-4598-93fe-d2dc8b45b33b"
      },
      "outputs": [
        {
          "output_type": "error",
          "ename": "SyntaxError",
          "evalue": "invalid syntax (<ipython-input-3-6642a3312f53>, line 1)",
          "traceback": [
            "\u001b[0;36m  File \u001b[0;32m\"<ipython-input-3-6642a3312f53>\"\u001b[0;36m, line \u001b[0;32m1\u001b[0m\n\u001b[0;31m    Code cell <uCoPQuWtat6m>\u001b[0m\n\u001b[0m         ^\u001b[0m\n\u001b[0;31mSyntaxError\u001b[0m\u001b[0;31m:\u001b[0m invalid syntax\n"
          ]
        }
      ],
      "source": [
        "\n"
      ]
    },
    {
      "cell_type": "code",
      "source": [
        "import numpy as np\n",
        "import pandas as pd\n",
        "from sklearn.datasets import make_classification\n",
        "from sklearn.linear_model import LogisticRegression\n",
        "from sklearn.metrics import accuracy_score, precision_score, recall_score, f1_score\n",
        "from sklearn.model_selection import train_test_split\n",
        "from sklearn.pipeline import Pipeline\n",
        "from sklearn.preprocessing import StandardScaler, MinMaxScaler\n",
        "\n",
        "# Part 1: Working with synthetic dataset\n",
        "\n",
        "# Generate a synthetic dataset\n",
        "X_syn, y_syn = make_classification(n_samples=1000, n_features=20, random_state=42)\n",
        "\n",
        "# Split the dataset into training and testing sets\n",
        "X_train_syn, X_test_syn, y_train_syn, y_test_syn = train_test_split(X_syn, y_syn, test_size=0.2, random_state=42)\n",
        "\n",
        "# Option 1: Increase the number of iterations and use StandardScaler\n",
        "pipeline_standard = Pipeline([\n",
        "    ('scaler', StandardScaler()),\n",
        "    ('logistic_regression', LogisticRegression(solver='lbfgs', max_iter=500))\n",
        "])\n",
        "\n",
        "# Fit the model\n",
        "pipeline_standard.fit(X_train_syn, y_train_syn)\n",
        "\n",
        "# Evaluate the model\n",
        "score_standard = pipeline_standard.score(X_test_syn, y_test_syn)\n",
        "print(f\"Score with StandardScaler and increased max_iter: {score_standard:.4f}\")\n",
        "\n",
        "# Option 2: Use MinMaxScaler\n",
        "pipeline_minmax = Pipeline([\n",
        "    ('scaler', MinMaxScaler()),\n",
        "    ('logistic_regression', LogisticRegression(solver='lbfgs', max_iter=500))\n",
        "])\n",
        "\n",
        "# Fit the model\n",
        "pipeline_minmax.fit(X_train_syn, y_train_syn)\n",
        "\n",
        "# Evaluate the model\n",
        "score_minmax = pipeline_minmax.score(X_test_syn, y_test_syn)\n",
        "print(f\"Score with MinMaxScaler and increased max_iter: {score_minmax:.4f}\")\n",
        "\n",
        "# Option 3: Use an alternative solver (e.g., 'saga')\n",
        "pipeline_saga = Pipeline([\n",
        "    ('scaler', StandardScaler()),\n",
        "    ('logistic_regression', LogisticRegression(solver='saga', max_iter=500))\n",
        "])\n",
        "\n",
        "# Fit the model\n",
        "pipeline_saga.fit(X_train_syn, y_train_syn)\n",
        "\n",
        "# Evaluate the model\n",
        "score_saga = pipeline_saga.score(X_test_syn, y_test_syn)\n",
        "print(f\"Score with StandardScaler and solver 'saga': {score_saga:.4f}\")\n",
        "\n",
        "# Part 2: Working with real dataset\n",
        "\n",
        "# Load the dataset\n",
        "data = pd.read_csv(\"Customer Churn.csv\")\n",
        "\n",
        "# Define feature columns and target column\n",
        "feature_cols = [\n",
        "    'Call  Failure', 'Complains', 'Subscription  Length', 'Charge  Amount',\n",
        "    'Seconds of Use', 'Frequency of use', 'Frequency of SMS',\n",
        "    'Distinct Called Numbers', 'Age Group', 'Tariff Plan', 'Status', 'Age',\n",
        "    'Customer Value'\n",
        "]\n",
        "target_col = 'Churn'\n",
        "\n",
        "# Split data into features (X) and target (y)\n",
        "X = data[feature_cols]\n",
        "y = data[target_col]\n",
        "\n",
        "# Split data into training and testing sets\n",
        "X_train, X_test, y_train, y_test = train_test_split(X, y, test_size=0.3, random_state=42)\n",
        "\n",
        "# Initialize and train the logistic regression model\n",
        "model = LogisticRegression(max_iter=1000)\n",
        "model.fit(X_train, y_train)\n",
        "\n",
        "# Make predictions on the test set\n",
        "y_pred = model.predict(X_test)\n",
        "\n",
        "# Calculate accuracy metrics\n",
        "accuracy = accuracy_score(y_test, y_pred)\n",
        "precision = precision_score(y_test, y_pred)\n",
        "recall = recall_score(y_test, y_pred)\n",
        "f1 = f1_score(y_test, y_pred)\n",
        "\n",
        "# Print the coefficients of the logistic regression model\n",
        "coefficients = pd.DataFrame({\n",
        "    'Feature': feature_cols,\n",
        "    'Coefficient': model.coef_[0]\n",
        "})\n",
        "print(coefficients)\n",
        "\n",
        "# Print accuracy metrics\n",
        "print(f\"Accuracy: {accuracy:.4f}\")\n",
        "print(f\"Precision: {precision:.4f}\")\n",
        "print(f\"Recall: {recall:.4f}\")\n",
        "print(f\"F1 Score: {f1:.4f}\")\n"
      ],
      "metadata": {
        "id": "NfXvWwWd0huj",
        "outputId": "b767dd23-b272-42cb-fc08-f472e5eabdc1",
        "colab": {
          "base_uri": "https://localhost:8080/"
        }
      },
      "execution_count": null,
      "outputs": [
        {
          "output_type": "stream",
          "name": "stdout",
          "text": [
            "Score with StandardScaler and increased max_iter: 0.8550\n",
            "Score with MinMaxScaler and increased max_iter: 0.8600\n",
            "Score with StandardScaler and solver 'saga': 0.8550\n",
            "                    Feature  Coefficient\n",
            "0             Call  Failure     0.131114\n",
            "1                 Complains     3.956799\n",
            "2      Subscription  Length    -0.032380\n",
            "3            Charge  Amount    -0.353805\n",
            "4            Seconds of Use     0.000209\n",
            "5          Frequency of use    -0.046202\n",
            "6          Frequency of SMS    -0.026023\n",
            "7   Distinct Called Numbers    -0.036485\n",
            "8                 Age Group     0.262398\n",
            "9               Tariff Plan    -0.153178\n",
            "10                   Status     1.027348\n",
            "11                      Age    -0.047781\n",
            "12           Customer Value     0.003230\n",
            "Accuracy: 0.8804\n",
            "Precision: 0.7634\n",
            "Recall: 0.4383\n",
            "F1 Score: 0.5569\n"
          ]
        },
        {
          "output_type": "stream",
          "name": "stderr",
          "text": [
            "/usr/local/lib/python3.10/dist-packages/sklearn/linear_model/_logistic.py:458: ConvergenceWarning: lbfgs failed to converge (status=1):\n",
            "STOP: TOTAL NO. of ITERATIONS REACHED LIMIT.\n",
            "\n",
            "Increase the number of iterations (max_iter) or scale the data as shown in:\n",
            "    https://scikit-learn.org/stable/modules/preprocessing.html\n",
            "Please also refer to the documentation for alternative solver options:\n",
            "    https://scikit-learn.org/stable/modules/linear_model.html#logistic-regression\n",
            "  n_iter_i = _check_optimize_result(\n"
          ]
        }
      ]
    }
  ]
}